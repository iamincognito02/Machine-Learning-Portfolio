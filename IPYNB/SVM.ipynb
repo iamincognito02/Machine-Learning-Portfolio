{
 "cells": [
  {
   "cell_type": "markdown",
   "metadata": {},
   "source": [
    "Q. Write a program to implement Support Vector Machine Algorithm to solve classification problem on two different datasets individually."
   ]
  },
  {
   "cell_type": "markdown",
   "metadata": {},
   "source": [
    "### For Dataset: Nissan-data.csv"
   ]
  },
  {
   "cell_type": "markdown",
   "metadata": {},
   "source": [
    "Importing necessary libraries"
   ]
  },
  {
   "cell_type": "code",
   "execution_count": null,
   "metadata": {},
   "outputs": [],
   "source": [
    "import pandas as pd\n",
    "from sklearn.model_selection import train_test_split\n",
    "from sklearn.svm import SVC\n",
    "from sklearn.metrics import classification_report, confusion_matrix, accuracy_score\n",
    "import seaborn as sns\n",
    "import matplotlib.pyplot as plt\n",
    "from sklearn.preprocessing import StandardScaler, LabelEncoder"
   ]
  },
  {
   "cell_type": "markdown",
   "metadata": {},
   "source": [
    "Importing first dataset and head of the df"
   ]
  },
  {
   "cell_type": "code",
   "execution_count": 67,
   "metadata": {},
   "outputs": [
    {
     "data": {
      "text/html": [
       "<div>\n",
       "<style scoped>\n",
       "    .dataframe tbody tr th:only-of-type {\n",
       "        vertical-align: middle;\n",
       "    }\n",
       "\n",
       "    .dataframe tbody tr th {\n",
       "        vertical-align: top;\n",
       "    }\n",
       "\n",
       "    .dataframe thead th {\n",
       "        text-align: right;\n",
       "    }\n",
       "</style>\n",
       "<table border=\"1\" class=\"dataframe\">\n",
       "  <thead>\n",
       "    <tr style=\"text-align: right;\">\n",
       "      <th></th>\n",
       "      <th>id</th>\n",
       "      <th>full_name</th>\n",
       "      <th>age</th>\n",
       "      <th>gender</th>\n",
       "      <th>model</th>\n",
       "      <th>color</th>\n",
       "      <th>performance</th>\n",
       "      <th>km</th>\n",
       "      <th>condition</th>\n",
       "      <th>price</th>\n",
       "    </tr>\n",
       "  </thead>\n",
       "  <tbody>\n",
       "    <tr>\n",
       "      <th>0</th>\n",
       "      <td>1</td>\n",
       "      <td>Dominic Applin</td>\n",
       "      <td>42.0</td>\n",
       "      <td>Male</td>\n",
       "      <td>Quest</td>\n",
       "      <td>Mauv</td>\n",
       "      <td>299.0</td>\n",
       "      <td>509305.0</td>\n",
       "      <td>very bad</td>\n",
       "      <td>40394.91</td>\n",
       "    </tr>\n",
       "    <tr>\n",
       "      <th>1</th>\n",
       "      <td>2</td>\n",
       "      <td>Lenee Eteen</td>\n",
       "      <td>54.0</td>\n",
       "      <td>Polygender</td>\n",
       "      <td>R'nessa</td>\n",
       "      <td>Orange</td>\n",
       "      <td>109.0</td>\n",
       "      <td>965853.0</td>\n",
       "      <td>old</td>\n",
       "      <td>8687.90</td>\n",
       "    </tr>\n",
       "    <tr>\n",
       "      <th>2</th>\n",
       "      <td>3</td>\n",
       "      <td>Kendal Esselin</td>\n",
       "      <td>37.0</td>\n",
       "      <td>Male</td>\n",
       "      <td>March / Micra</td>\n",
       "      <td>Teal</td>\n",
       "      <td>52.0</td>\n",
       "      <td>380906.0</td>\n",
       "      <td>bad</td>\n",
       "      <td>44705.31</td>\n",
       "    </tr>\n",
       "    <tr>\n",
       "      <th>3</th>\n",
       "      <td>4</td>\n",
       "      <td>Nehemiah Marvelley</td>\n",
       "      <td>55.0</td>\n",
       "      <td>Male</td>\n",
       "      <td>Gloria</td>\n",
       "      <td>Green</td>\n",
       "      <td>336.0</td>\n",
       "      <td>573171.0</td>\n",
       "      <td>very good</td>\n",
       "      <td>32889.88</td>\n",
       "    </tr>\n",
       "    <tr>\n",
       "      <th>4</th>\n",
       "      <td>5</td>\n",
       "      <td>Domenic McGeouch</td>\n",
       "      <td>21.0</td>\n",
       "      <td>Male</td>\n",
       "      <td>Avenir</td>\n",
       "      <td>Khaki</td>\n",
       "      <td>2.0</td>\n",
       "      <td>809470.0</td>\n",
       "      <td>old</td>\n",
       "      <td>6949.22</td>\n",
       "    </tr>\n",
       "  </tbody>\n",
       "</table>\n",
       "</div>"
      ],
      "text/plain": [
       "   id           full_name   age      gender          model   color  \\\n",
       "0   1      Dominic Applin  42.0        Male          Quest    Mauv   \n",
       "1   2         Lenee Eteen  54.0  Polygender        R'nessa  Orange   \n",
       "2   3      Kendal Esselin  37.0        Male  March / Micra    Teal   \n",
       "3   4  Nehemiah Marvelley  55.0        Male         Gloria   Green   \n",
       "4   5    Domenic McGeouch  21.0        Male         Avenir   Khaki   \n",
       "\n",
       "   performance        km  condition     price  \n",
       "0        299.0  509305.0   very bad  40394.91  \n",
       "1        109.0  965853.0        old   8687.90  \n",
       "2         52.0  380906.0        bad  44705.31  \n",
       "3        336.0  573171.0  very good  32889.88  \n",
       "4          2.0  809470.0        old   6949.22  "
      ]
     },
     "execution_count": 67,
     "metadata": {},
     "output_type": "execute_result"
    }
   ],
   "source": [
    "df = pd.read_csv('nissan-dataset.csv')\n",
    "df.head()"
   ]
  },
  {
   "cell_type": "code",
   "execution_count": 68,
   "metadata": {},
   "outputs": [
    {
     "name": "stdout",
     "output_type": "stream",
     "text": [
      "<class 'pandas.core.frame.DataFrame'>\n",
      "RangeIndex: 10000 entries, 0 to 9999\n",
      "Data columns (total 10 columns):\n",
      " #   Column       Non-Null Count  Dtype  \n",
      "---  ------       --------------  -----  \n",
      " 0   id           10000 non-null  int64  \n",
      " 1   full_name    9157 non-null   object \n",
      " 2   age          9154 non-null   float64\n",
      " 3   gender       9144 non-null   object \n",
      " 4   model        9130 non-null   object \n",
      " 5   color        9139 non-null   object \n",
      " 6   performance  9143 non-null   float64\n",
      " 7   km           9141 non-null   float64\n",
      " 8   condition    9151 non-null   object \n",
      " 9   price        9159 non-null   float64\n",
      "dtypes: float64(4), int64(1), object(5)\n",
      "memory usage: 781.4+ KB\n"
     ]
    }
   ],
   "source": [
    "df.info()"
   ]
  },
  {
   "cell_type": "code",
   "execution_count": 69,
   "metadata": {},
   "outputs": [
    {
     "data": {
      "text/plain": [
       "id               0\n",
       "full_name      843\n",
       "age            846\n",
       "gender         856\n",
       "model          870\n",
       "color          861\n",
       "performance    857\n",
       "km             859\n",
       "condition      849\n",
       "price          841\n",
       "dtype: int64"
      ]
     },
     "execution_count": 69,
     "metadata": {},
     "output_type": "execute_result"
    }
   ],
   "source": [
    "df.isnull().sum()"
   ]
  },
  {
   "cell_type": "code",
   "execution_count": 70,
   "metadata": {},
   "outputs": [],
   "source": [
    "df.dropna(inplace=True)"
   ]
  },
  {
   "cell_type": "code",
   "execution_count": 71,
   "metadata": {},
   "outputs": [
    {
     "data": {
      "text/plain": [
       "id             0\n",
       "full_name      0\n",
       "age            0\n",
       "gender         0\n",
       "model          0\n",
       "color          0\n",
       "performance    0\n",
       "km             0\n",
       "condition      0\n",
       "price          0\n",
       "dtype: int64"
      ]
     },
     "execution_count": 71,
     "metadata": {},
     "output_type": "execute_result"
    }
   ],
   "source": [
    "df.isnull().sum()"
   ]
  },
  {
   "cell_type": "code",
   "execution_count": 72,
   "metadata": {},
   "outputs": [
    {
     "data": {
      "text/html": [
       "<div>\n",
       "<style scoped>\n",
       "    .dataframe tbody tr th:only-of-type {\n",
       "        vertical-align: middle;\n",
       "    }\n",
       "\n",
       "    .dataframe tbody tr th {\n",
       "        vertical-align: top;\n",
       "    }\n",
       "\n",
       "    .dataframe thead th {\n",
       "        text-align: right;\n",
       "    }\n",
       "</style>\n",
       "<table border=\"1\" class=\"dataframe\">\n",
       "  <thead>\n",
       "    <tr style=\"text-align: right;\">\n",
       "      <th></th>\n",
       "      <th>id</th>\n",
       "      <th>age</th>\n",
       "      <th>performance</th>\n",
       "      <th>km</th>\n",
       "      <th>price</th>\n",
       "    </tr>\n",
       "  </thead>\n",
       "  <tbody>\n",
       "    <tr>\n",
       "      <th>count</th>\n",
       "      <td>9053.000000</td>\n",
       "      <td>9053.000000</td>\n",
       "      <td>9053.000000</td>\n",
       "      <td>9053.000000</td>\n",
       "      <td>9053.000000</td>\n",
       "    </tr>\n",
       "    <tr>\n",
       "      <th>mean</th>\n",
       "      <td>4983.303435</td>\n",
       "      <td>43.080305</td>\n",
       "      <td>197.822379</td>\n",
       "      <td>503871.380979</td>\n",
       "      <td>27361.050557</td>\n",
       "    </tr>\n",
       "    <tr>\n",
       "      <th>std</th>\n",
       "      <td>2905.407440</td>\n",
       "      <td>14.783407</td>\n",
       "      <td>112.850882</td>\n",
       "      <td>284898.768044</td>\n",
       "      <td>13463.534018</td>\n",
       "    </tr>\n",
       "    <tr>\n",
       "      <th>min</th>\n",
       "      <td>1.000000</td>\n",
       "      <td>18.000000</td>\n",
       "      <td>0.000000</td>\n",
       "      <td>808.000000</td>\n",
       "      <td>5000.250000</td>\n",
       "    </tr>\n",
       "    <tr>\n",
       "      <th>25%</th>\n",
       "      <td>2470.000000</td>\n",
       "      <td>31.000000</td>\n",
       "      <td>102.000000</td>\n",
       "      <td>258709.000000</td>\n",
       "      <td>15960.500000</td>\n",
       "    </tr>\n",
       "    <tr>\n",
       "      <th>50%</th>\n",
       "      <td>4969.000000</td>\n",
       "      <td>43.000000</td>\n",
       "      <td>196.000000</td>\n",
       "      <td>502308.000000</td>\n",
       "      <td>27328.560000</td>\n",
       "    </tr>\n",
       "    <tr>\n",
       "      <th>75%</th>\n",
       "      <td>7510.000000</td>\n",
       "      <td>56.000000</td>\n",
       "      <td>296.000000</td>\n",
       "      <td>749260.000000</td>\n",
       "      <td>38385.630000</td>\n",
       "    </tr>\n",
       "    <tr>\n",
       "      <th>max</th>\n",
       "      <td>10000.000000</td>\n",
       "      <td>69.000000</td>\n",
       "      <td>399.000000</td>\n",
       "      <td>999915.000000</td>\n",
       "      <td>215674.780000</td>\n",
       "    </tr>\n",
       "  </tbody>\n",
       "</table>\n",
       "</div>"
      ],
      "text/plain": [
       "                 id          age  performance             km          price\n",
       "count   9053.000000  9053.000000  9053.000000    9053.000000    9053.000000\n",
       "mean    4983.303435    43.080305   197.822379  503871.380979   27361.050557\n",
       "std     2905.407440    14.783407   112.850882  284898.768044   13463.534018\n",
       "min        1.000000    18.000000     0.000000     808.000000    5000.250000\n",
       "25%     2470.000000    31.000000   102.000000  258709.000000   15960.500000\n",
       "50%     4969.000000    43.000000   196.000000  502308.000000   27328.560000\n",
       "75%     7510.000000    56.000000   296.000000  749260.000000   38385.630000\n",
       "max    10000.000000    69.000000   399.000000  999915.000000  215674.780000"
      ]
     },
     "execution_count": 72,
     "metadata": {},
     "output_type": "execute_result"
    }
   ],
   "source": [
    "df.describe()"
   ]
  },
  {
   "cell_type": "code",
   "execution_count": 73,
   "metadata": {},
   "outputs": [],
   "source": [
    "df['price'] = pd.to_numeric(df['price'], errors='coerce')"
   ]
  },
  {
   "cell_type": "code",
   "execution_count": 74,
   "metadata": {},
   "outputs": [],
   "source": [
    "median_price = df['price'].median()\n",
    "df['high_price'] = (df['price'] > median_price).astype(int)"
   ]
  },
  {
   "cell_type": "code",
   "execution_count": 75,
   "metadata": {},
   "outputs": [],
   "source": [
    "df = df.drop(['id', 'full_name', 'price','gender'], axis=1)"
   ]
  },
  {
   "cell_type": "code",
   "execution_count": 76,
   "metadata": {},
   "outputs": [],
   "source": [
    "df = pd.get_dummies(df, drop_first=True)"
   ]
  },
  {
   "cell_type": "code",
   "execution_count": 77,
   "metadata": {},
   "outputs": [],
   "source": [
    "X = df.drop('high_price', axis=1)\n",
    "y = df['high_price']"
   ]
  },
  {
   "cell_type": "code",
   "execution_count": 78,
   "metadata": {},
   "outputs": [],
   "source": [
    "X_train, X_test, y_train, y_test = train_test_split(X, y, test_size=0.2, random_state=42)"
   ]
  },
  {
   "cell_type": "code",
   "execution_count": 79,
   "metadata": {},
   "outputs": [],
   "source": [
    "svm_model = SVC(kernel='linear')\n",
    "\n",
    "svm_model.fit(X_train, y_train)\n",
    "\n",
    "y_pred = svm_model.predict(X_test)"
   ]
  },
  {
   "cell_type": "code",
   "execution_count": 80,
   "metadata": {},
   "outputs": [],
   "source": [
    "conf_matrix = confusion_matrix(y_test, y_pred)\n",
    "class_report = classification_report(y_test, y_pred)\n",
    "accuracy = accuracy_score(y_test, y_pred)"
   ]
  },
  {
   "cell_type": "code",
   "execution_count": 81,
   "metadata": {},
   "outputs": [
    {
     "name": "stdout",
     "output_type": "stream",
     "text": [
      "Confusion Matrix:\n",
      "[[692 233]\n",
      " [643 243]]\n",
      "\n",
      "Classification Report:\n",
      "              precision    recall  f1-score   support\n",
      "\n",
      "           0       0.52      0.75      0.61       925\n",
      "           1       0.51      0.27      0.36       886\n",
      "\n",
      "    accuracy                           0.52      1811\n",
      "   macro avg       0.51      0.51      0.48      1811\n",
      "weighted avg       0.51      0.52      0.49      1811\n",
      "\n",
      "\n",
      "Accuracy Score:\n",
      "0.5162893429044727\n"
     ]
    }
   ],
   "source": [
    "print(\"Confusion Matrix:\")\n",
    "print(conf_matrix)\n",
    "\n",
    "print(\"\\nClassification Report:\")\n",
    "print(class_report)\n",
    "\n",
    "print(\"\\nAccuracy Score:\")\n",
    "print(accuracy)"
   ]
  },
  {
   "cell_type": "code",
   "execution_count": 82,
   "metadata": {},
   "outputs": [
    {
     "data": {
      "image/png": "[encoded data removed]",
      "text/plain": [
       "<Figure size 640x480 with 2 Axes>"
      ]
     },
     "metadata": {},
     "output_type": "display_data"
    }
   ],
   "source": [
    "sns.heatmap(conf_matrix, annot=True, fmt='d', cmap='Blues')\n",
    "plt.title('Confusion Matrix')\n",
    "plt.xlabel('Predicted')\n",
    "plt.ylabel('Actual')\n",
    "plt.show()"
   ]
  },
  {
   "cell_type": "markdown",
   "metadata": {},
   "source": [
    "### For dataset: Plant growth data"
   ]
  },
  {
   "cell_type": "code",
   "execution_count": 3,
   "metadata": {},
   "outputs": [
    {
     "data": {
      "text/html": [
       "<div>\n",
       "<style scoped>\n",
       "    .dataframe tbody tr th:only-of-type {\n",
       "        vertical-align: middle;\n",
       "    }\n",
       "\n",
       "    .dataframe tbody tr th {\n",
       "        vertical-align: top;\n",
       "    }\n",
       "\n",
       "    .dataframe thead th {\n",
       "        text-align: right;\n",
       "    }\n",
       "</style>\n",
       "<table border=\"1\" class=\"dataframe\">\n",
       "  <thead>\n",
       "    <tr style=\"text-align: right;\">\n",
       "      <th></th>\n",
       "      <th>Soil_Type</th>\n",
       "      <th>Sunlight_Hours</th>\n",
       "      <th>Water_Frequency</th>\n",
       "      <th>Fertilizer_Type</th>\n",
       "      <th>Temperature</th>\n",
       "      <th>Humidity</th>\n",
       "      <th>Growth_Milestone</th>\n",
       "    </tr>\n",
       "  </thead>\n",
       "  <tbody>\n",
       "    <tr>\n",
       "      <th>0</th>\n",
       "      <td>loam</td>\n",
       "      <td>5.192294</td>\n",
       "      <td>bi-weekly</td>\n",
       "      <td>chemical</td>\n",
       "      <td>31.719602</td>\n",
       "      <td>61.591861</td>\n",
       "      <td>0</td>\n",
       "    </tr>\n",
       "    <tr>\n",
       "      <th>1</th>\n",
       "      <td>sandy</td>\n",
       "      <td>4.033133</td>\n",
       "      <td>weekly</td>\n",
       "      <td>organic</td>\n",
       "      <td>28.919484</td>\n",
       "      <td>52.422276</td>\n",
       "      <td>1</td>\n",
       "    </tr>\n",
       "    <tr>\n",
       "      <th>2</th>\n",
       "      <td>loam</td>\n",
       "      <td>8.892769</td>\n",
       "      <td>bi-weekly</td>\n",
       "      <td>none</td>\n",
       "      <td>23.179059</td>\n",
       "      <td>44.660539</td>\n",
       "      <td>0</td>\n",
       "    </tr>\n",
       "    <tr>\n",
       "      <th>3</th>\n",
       "      <td>loam</td>\n",
       "      <td>8.241144</td>\n",
       "      <td>bi-weekly</td>\n",
       "      <td>none</td>\n",
       "      <td>18.465886</td>\n",
       "      <td>46.433227</td>\n",
       "      <td>0</td>\n",
       "    </tr>\n",
       "    <tr>\n",
       "      <th>4</th>\n",
       "      <td>sandy</td>\n",
       "      <td>8.374043</td>\n",
       "      <td>bi-weekly</td>\n",
       "      <td>organic</td>\n",
       "      <td>18.128741</td>\n",
       "      <td>63.625923</td>\n",
       "      <td>0</td>\n",
       "    </tr>\n",
       "  </tbody>\n",
       "</table>\n",
       "</div>"
      ],
      "text/plain": [
       "  Soil_Type  Sunlight_Hours Water_Frequency Fertilizer_Type  Temperature  \\\n",
       "0      loam        5.192294       bi-weekly        chemical    31.719602   \n",
       "1     sandy        4.033133          weekly         organic    28.919484   \n",
       "2      loam        8.892769       bi-weekly            none    23.179059   \n",
       "3      loam        8.241144       bi-weekly            none    18.465886   \n",
       "4     sandy        8.374043       bi-weekly         organic    18.128741   \n",
       "\n",
       "    Humidity  Growth_Milestone  \n",
       "0  61.591861                 0  \n",
       "1  52.422276                 1  \n",
       "2  44.660539                 0  \n",
       "3  46.433227                 0  \n",
       "4  63.625923                 0  "
      ]
     },
     "execution_count": 3,
     "metadata": {},
     "output_type": "execute_result"
    }
   ],
   "source": [
    "df1 = pd.read_csv('plant_growth_data.csv')\n",
    "df1.head()"
   ]
  },
  {
   "cell_type": "code",
   "execution_count": 6,
   "metadata": {},
   "outputs": [
    {
     "data": {
      "text/plain": [
       "Soil_Type           0\n",
       "Sunlight_Hours      0\n",
       "Water_Frequency     0\n",
       "Fertilizer_Type     0\n",
       "Temperature         0\n",
       "Humidity            0\n",
       "Growth_Milestone    0\n",
       "dtype: int64"
      ]
     },
     "execution_count": 6,
     "metadata": {},
     "output_type": "execute_result"
    }
   ],
   "source": [
    "df1.isnull().sum()"
   ]
  },
  {
   "cell_type": "code",
   "execution_count": 5,
   "metadata": {},
   "outputs": [
    {
     "name": "stdout",
     "output_type": "stream",
     "text": [
      "<class 'pandas.core.frame.DataFrame'>\n",
      "RangeIndex: 193 entries, 0 to 192\n",
      "Data columns (total 7 columns):\n",
      " #   Column            Non-Null Count  Dtype  \n",
      "---  ------            --------------  -----  \n",
      " 0   Soil_Type         193 non-null    object \n",
      " 1   Sunlight_Hours    193 non-null    float64\n",
      " 2   Water_Frequency   193 non-null    object \n",
      " 3   Fertilizer_Type   193 non-null    object \n",
      " 4   Temperature       193 non-null    float64\n",
      " 5   Humidity          193 non-null    float64\n",
      " 6   Growth_Milestone  193 non-null    int64  \n",
      "dtypes: float64(3), int64(1), object(3)\n",
      "memory usage: 10.7+ KB\n"
     ]
    }
   ],
   "source": [
    "df1.info()"
   ]
  },
  {
   "cell_type": "code",
   "execution_count": 7,
   "metadata": {},
   "outputs": [
    {
     "data": {
      "text/html": [
       "<div>\n",
       "<style scoped>\n",
       "    .dataframe tbody tr th:only-of-type {\n",
       "        vertical-align: middle;\n",
       "    }\n",
       "\n",
       "    .dataframe tbody tr th {\n",
       "        vertical-align: top;\n",
       "    }\n",
       "\n",
       "    .dataframe thead th {\n",
       "        text-align: right;\n",
       "    }\n",
       "</style>\n",
       "<table border=\"1\" class=\"dataframe\">\n",
       "  <thead>\n",
       "    <tr style=\"text-align: right;\">\n",
       "      <th></th>\n",
       "      <th>Sunlight_Hours</th>\n",
       "      <th>Temperature</th>\n",
       "      <th>Humidity</th>\n",
       "      <th>Growth_Milestone</th>\n",
       "    </tr>\n",
       "  </thead>\n",
       "  <tbody>\n",
       "    <tr>\n",
       "      <th>count</th>\n",
       "      <td>193.000000</td>\n",
       "      <td>193.000000</td>\n",
       "      <td>193.000000</td>\n",
       "      <td>193.000000</td>\n",
       "    </tr>\n",
       "    <tr>\n",
       "      <th>mean</th>\n",
       "      <td>6.826484</td>\n",
       "      <td>25.076087</td>\n",
       "      <td>58.098927</td>\n",
       "      <td>0.497409</td>\n",
       "    </tr>\n",
       "    <tr>\n",
       "      <th>std</th>\n",
       "      <td>1.599509</td>\n",
       "      <td>5.354170</td>\n",
       "      <td>12.631799</td>\n",
       "      <td>0.501294</td>\n",
       "    </tr>\n",
       "    <tr>\n",
       "      <th>min</th>\n",
       "      <td>4.033133</td>\n",
       "      <td>15.200000</td>\n",
       "      <td>30.567682</td>\n",
       "      <td>0.000000</td>\n",
       "    </tr>\n",
       "    <tr>\n",
       "      <th>25%</th>\n",
       "      <td>5.477000</td>\n",
       "      <td>20.637095</td>\n",
       "      <td>49.300000</td>\n",
       "      <td>0.000000</td>\n",
       "    </tr>\n",
       "    <tr>\n",
       "      <th>50%</th>\n",
       "      <td>6.833290</td>\n",
       "      <td>25.912336</td>\n",
       "      <td>59.182806</td>\n",
       "      <td>0.000000</td>\n",
       "    </tr>\n",
       "    <tr>\n",
       "      <th>75%</th>\n",
       "      <td>8.241144</td>\n",
       "      <td>29.757938</td>\n",
       "      <td>69.100000</td>\n",
       "      <td>1.000000</td>\n",
       "    </tr>\n",
       "    <tr>\n",
       "      <th>max</th>\n",
       "      <td>9.913903</td>\n",
       "      <td>34.810103</td>\n",
       "      <td>79.648240</td>\n",
       "      <td>1.000000</td>\n",
       "    </tr>\n",
       "  </tbody>\n",
       "</table>\n",
       "</div>"
      ],
      "text/plain": [
       "       Sunlight_Hours  Temperature    Humidity  Growth_Milestone\n",
       "count      193.000000   193.000000  193.000000        193.000000\n",
       "mean         6.826484    25.076087   58.098927          0.497409\n",
       "std          1.599509     5.354170   12.631799          0.501294\n",
       "min          4.033133    15.200000   30.567682          0.000000\n",
       "25%          5.477000    20.637095   49.300000          0.000000\n",
       "50%          6.833290    25.912336   59.182806          0.000000\n",
       "75%          8.241144    29.757938   69.100000          1.000000\n",
       "max          9.913903    34.810103   79.648240          1.000000"
      ]
     },
     "execution_count": 7,
     "metadata": {},
     "output_type": "execute_result"
    }
   ],
   "source": [
    "df1.describe()"
   ]
  },
  {
   "cell_type": "code",
   "execution_count": 10,
   "metadata": {},
   "outputs": [],
   "source": [
    "label_encoders = {}\n",
    "categorical_columns = ['Soil_Type', 'Water_Frequency', 'Fertilizer_Type']\n",
    "for column in categorical_columns:\n",
    "    le = LabelEncoder()\n",
    "    df1[column] = le.fit_transform(df1[column])\n",
    "    label_encoders[column] = le"
   ]
  },
  {
   "cell_type": "code",
   "execution_count": 11,
   "metadata": {},
   "outputs": [
    {
     "data": {
      "text/html": [
       "<div>\n",
       "<style scoped>\n",
       "    .dataframe tbody tr th:only-of-type {\n",
       "        vertical-align: middle;\n",
       "    }\n",
       "\n",
       "    .dataframe tbody tr th {\n",
       "        vertical-align: top;\n",
       "    }\n",
       "\n",
       "    .dataframe thead th {\n",
       "        text-align: right;\n",
       "    }\n",
       "</style>\n",
       "<table border=\"1\" class=\"dataframe\">\n",
       "  <thead>\n",
       "    <tr style=\"text-align: right;\">\n",
       "      <th></th>\n",
       "      <th>Soil_Type</th>\n",
       "      <th>Sunlight_Hours</th>\n",
       "      <th>Water_Frequency</th>\n",
       "      <th>Fertilizer_Type</th>\n",
       "      <th>Temperature</th>\n",
       "      <th>Humidity</th>\n",
       "      <th>Growth_Milestone</th>\n",
       "    </tr>\n",
       "  </thead>\n",
       "  <tbody>\n",
       "    <tr>\n",
       "      <th>0</th>\n",
       "      <td>1</td>\n",
       "      <td>5.192294</td>\n",
       "      <td>0</td>\n",
       "      <td>0</td>\n",
       "      <td>31.719602</td>\n",
       "      <td>61.591861</td>\n",
       "      <td>0</td>\n",
       "    </tr>\n",
       "    <tr>\n",
       "      <th>1</th>\n",
       "      <td>2</td>\n",
       "      <td>4.033133</td>\n",
       "      <td>2</td>\n",
       "      <td>2</td>\n",
       "      <td>28.919484</td>\n",
       "      <td>52.422276</td>\n",
       "      <td>1</td>\n",
       "    </tr>\n",
       "    <tr>\n",
       "      <th>2</th>\n",
       "      <td>1</td>\n",
       "      <td>8.892769</td>\n",
       "      <td>0</td>\n",
       "      <td>1</td>\n",
       "      <td>23.179059</td>\n",
       "      <td>44.660539</td>\n",
       "      <td>0</td>\n",
       "    </tr>\n",
       "    <tr>\n",
       "      <th>3</th>\n",
       "      <td>1</td>\n",
       "      <td>8.241144</td>\n",
       "      <td>0</td>\n",
       "      <td>1</td>\n",
       "      <td>18.465886</td>\n",
       "      <td>46.433227</td>\n",
       "      <td>0</td>\n",
       "    </tr>\n",
       "    <tr>\n",
       "      <th>4</th>\n",
       "      <td>2</td>\n",
       "      <td>8.374043</td>\n",
       "      <td>0</td>\n",
       "      <td>2</td>\n",
       "      <td>18.128741</td>\n",
       "      <td>63.625923</td>\n",
       "      <td>0</td>\n",
       "    </tr>\n",
       "  </tbody>\n",
       "</table>\n",
       "</div>"
      ],
      "text/plain": [
       "   Soil_Type  Sunlight_Hours  Water_Frequency  Fertilizer_Type  Temperature  \\\n",
       "0          1        5.192294                0                0    31.719602   \n",
       "1          2        4.033133                2                2    28.919484   \n",
       "2          1        8.892769                0                1    23.179059   \n",
       "3          1        8.241144                0                1    18.465886   \n",
       "4          2        8.374043                0                2    18.128741   \n",
       "\n",
       "    Humidity  Growth_Milestone  \n",
       "0  61.591861                 0  \n",
       "1  52.422276                 1  \n",
       "2  44.660539                 0  \n",
       "3  46.433227                 0  \n",
       "4  63.625923                 0  "
      ]
     },
     "execution_count": 11,
     "metadata": {},
     "output_type": "execute_result"
    }
   ],
   "source": [
    "df1.head()"
   ]
  },
  {
   "cell_type": "code",
   "execution_count": 12,
   "metadata": {},
   "outputs": [],
   "source": [
    "X = df1.drop('Growth_Milestone', axis=1)\n",
    "y = df1['Growth_Milestone']"
   ]
  },
  {
   "cell_type": "code",
   "execution_count": 13,
   "metadata": {},
   "outputs": [],
   "source": [
    "X_train, X_test, y_train, y_test = train_test_split(X, y, test_size=0.2, random_state=42)"
   ]
  },
  {
   "cell_type": "code",
   "execution_count": 14,
   "metadata": {},
   "outputs": [],
   "source": [
    "scaler = StandardScaler()\n",
    "X_train = scaler.fit_transform(X_train)\n",
    "X_test = scaler.transform(X_test)"
   ]
  },
  {
   "cell_type": "code",
   "execution_count": 15,
   "metadata": {},
   "outputs": [
    {
     "data": {
      "text/html": [
       "<style>#sk-container-id-1 {color: black;}#sk-container-id-1 pre{padding: 0;}#sk-container-id-1 div.sk-toggleable {background-color: white;}#sk-container-id-1 label.sk-toggleable__label {cursor: pointer;display: block;width: 100%;margin-bottom: 0;padding: 0.3em;box-sizing: border-box;text-align: center;}#sk-container-id-1 label.sk-toggleable__label-arrow:before {content: \"▸\";float: left;margin-right: 0.25em;color: #696969;}#sk-container-id-1 label.sk-toggleable__label-arrow:hover:before {color: black;}#sk-container-id-1 div.sk-estimator:hover label.sk-toggleable__label-arrow:before {color: black;}#sk-container-id-1 div.sk-toggleable__content {max-height: 0;max-width: 0;overflow: hidden;text-align: left;background-color: #f0f8ff;}#sk-container-id-1 div.sk-toggleable__content pre {margin: 0.2em;color: black;border-radius: 0.25em;background-color: #f0f8ff;}#sk-container-id-1 input.sk-toggleable__control:checked~div.sk-toggleable__content {max-height: 200px;max-width: 100%;overflow: auto;}#sk-container-id-1 input.sk-toggleable__control:checked~label.sk-toggleable__label-arrow:before {content: \"▾\";}#sk-container-id-1 div.sk-estimator input.sk-toggleable__control:checked~label.sk-toggleable__label {background-color: #d4ebff;}#sk-container-id-1 div.sk-label input.sk-toggleable__control:checked~label.sk-toggleable__label {background-color: #d4ebff;}#sk-container-id-1 input.sk-hidden--visually {border: 0;clip: rect(1px 1px 1px 1px);clip: rect(1px, 1px, 1px, 1px);height: 1px;margin: -1px;overflow: hidden;padding: 0;position: absolute;width: 1px;}#sk-container-id-1 div.sk-estimator {font-family: monospace;background-color: #f0f8ff;border: 1px dotted black;border-radius: 0.25em;box-sizing: border-box;margin-bottom: 0.5em;}#sk-container-id-1 div.sk-estimator:hover {background-color: #d4ebff;}#sk-container-id-1 div.sk-parallel-item::after {content: \"\";width: 100%;border-bottom: 1px solid gray;flex-grow: 1;}#sk-container-id-1 div.sk-label:hover label.sk-toggleable__label {background-color: #d4ebff;}#sk-container-id-1 div.sk-serial::before {content: \"\";position: absolute;border-left: 1px solid gray;box-sizing: border-box;top: 0;bottom: 0;left: 50%;z-index: 0;}#sk-container-id-1 div.sk-serial {display: flex;flex-direction: column;align-items: center;background-color: white;padding-right: 0.2em;padding-left: 0.2em;position: relative;}#sk-container-id-1 div.sk-item {position: relative;z-index: 1;}#sk-container-id-1 div.sk-parallel {display: flex;align-items: stretch;justify-content: center;background-color: white;position: relative;}#sk-container-id-1 div.sk-item::before, #sk-container-id-1 div.sk-parallel-item::before {content: \"\";position: absolute;border-left: 1px solid gray;box-sizing: border-box;top: 0;bottom: 0;left: 50%;z-index: -1;}#sk-container-id-1 div.sk-parallel-item {display: flex;flex-direction: column;z-index: 1;position: relative;background-color: white;}#sk-container-id-1 div.sk-parallel-item:first-child::after {align-self: flex-end;width: 50%;}#sk-container-id-1 div.sk-parallel-item:last-child::after {align-self: flex-start;width: 50%;}#sk-container-id-1 div.sk-parallel-item:only-child::after {width: 0;}#sk-container-id-1 div.sk-dashed-wrapped {border: 1px dashed gray;margin: 0 0.4em 0.5em 0.4em;box-sizing: border-box;padding-bottom: 0.4em;background-color: white;}#sk-container-id-1 div.sk-label label {font-family: monospace;font-weight: bold;display: inline-block;line-height: 1.2em;}#sk-container-id-1 div.sk-label-container {text-align: center;}#sk-container-id-1 div.sk-container {/* jupyter's `normalize.less` sets `[hidden] { display: none; }` but bootstrap.min.css set `[hidden] { display: none !important; }` so we also need the `!important` here to be able to override the default hidden behavior on the sphinx rendered scikit-learn.org. See: https://github.com/scikit-learn/scikit-learn/issues/21755 */display: inline-block !important;position: relative;}#sk-container-id-1 div.sk-text-repr-fallback {display: none;}</style><div id=\"sk-container-id-1\" class=\"sk-top-container\"><div class=\"sk-text-repr-fallback\"><pre>SVC(kernel=&#x27;linear&#x27;)</pre><b>In a Jupyter environment, please rerun this cell to show the HTML representation or trust the notebook. <br />On GitHub, the HTML representation is unable to render, please try loading this page with nbviewer.org.</b></div><div class=\"sk-container\" hidden><div class=\"sk-item\"><div class=\"sk-estimator sk-toggleable\"><input class=\"sk-toggleable__control sk-hidden--visually\" id=\"sk-estimator-id-1\" type=\"checkbox\" checked><label for=\"sk-estimator-id-1\" class=\"sk-toggleable__label sk-toggleable__label-arrow\">SVC</label><div class=\"sk-toggleable__content\"><pre>SVC(kernel=&#x27;linear&#x27;)</pre></div></div></div></div></div>"
      ],
      "text/plain": [
       "SVC(kernel='linear')"
      ]
     },
     "execution_count": 15,
     "metadata": {},
     "output_type": "execute_result"
    }
   ],
   "source": [
    "svm = SVC(kernel='linear')\n",
    "svm.fit(X_train, y_train)"
   ]
  },
  {
   "cell_type": "code",
   "execution_count": 16,
   "metadata": {},
   "outputs": [],
   "source": [
    "y_pred = svm.predict(X_test)"
   ]
  },
  {
   "cell_type": "code",
   "execution_count": 19,
   "metadata": {},
   "outputs": [
    {
     "name": "stdout",
     "output_type": "stream",
     "text": [
      "Classification Report:\n",
      "               precision    recall  f1-score   support\n",
      "\n",
      "           0       0.42      0.59      0.49        17\n",
      "           1       0.53      0.36      0.43        22\n",
      "\n",
      "    accuracy                           0.46        39\n",
      "   macro avg       0.47      0.48      0.46        39\n",
      "weighted avg       0.48      0.46      0.46        39\n",
      "\n"
     ]
    }
   ],
   "source": [
    "print(\"Classification Report:\\n\", classification_report(y_test, y_pred))"
   ]
  },
  {
   "cell_type": "code",
   "execution_count": 20,
   "metadata": {},
   "outputs": [
    {
     "data": {
      "image/png": "[encoded data removed]",
      "text/plain": [
       "<Figure size 800x600 with 2 Axes>"
      ]
     },
     "metadata": {},
     "output_type": "display_data"
    }
   ],
   "source": [
    "plt.figure(figsize=(8, 6))\n",
    "sns.heatmap(confusion_matrix(y_test, y_pred), annot=True, fmt='d', cmap='Blues')\n",
    "plt.xlabel('Predicted')\n",
    "plt.ylabel('Actual')\n",
    "plt.title('Confusion Matrix')\n",
    "plt.show()"
   ]
  }
 ],
 "metadata": {
  "kernelspec": {
   "display_name": "base",
   "language": "python",
   "name": "python3"
  },
  "language_info": {
   "codemirror_mode": {
    "name": "ipython",
    "version": 3
   },
   "file_extension": ".py",
   "mimetype": "text/x-python",
   "name": "python",
   "nbconvert_exporter": "python",
   "pygments_lexer": "ipython3",
   "version": "3.11.5"
  }
 },
 "nbformat": 4,
 "nbformat_minor": 2
}
