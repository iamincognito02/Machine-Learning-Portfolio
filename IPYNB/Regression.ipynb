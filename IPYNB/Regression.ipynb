{
 "cells": [
  {
   "cell_type": "markdown",
   "metadata": {},
   "source": [
    "Q. Create Regression model of your choice using suitable dataset.\n",
    "\n",
    "Regression Models: \n",
    "1. Linear Regression \n",
    "\n",
    "2. Polynomial Regression Model\n",
    "\n",
    "3. Logistic Regression Model\n",
    "\n",
    "4. Random Forest Regressor Model\n",
    "\n",
    "Perform EDA on the dataset and implement the model and calculate accuracy score, Precision, Recall, F1 score of each linear model"
   ]
  },
  {
   "cell_type": "markdown",
   "metadata": {},
   "source": [
    "Importing libraries"
   ]
  },
  {
   "cell_type": "code",
   "execution_count": 62,
   "metadata": {},
   "outputs": [],
   "source": [
    "import pandas as pd\n",
    "import numpy as np\n",
    "from sklearn.preprocessing import StandardScaler\n",
    "from sklearn.model_selection import train_test_split\n",
    "from sklearn.linear_model import LinearRegression\n",
    "from sklearn.metrics import mean_squared_error, r2_score, mean_absolute_error\n",
    "import matplotlib.pyplot as plt\n",
    "import seaborn as sns\n",
    "from sklearn.preprocessing import PolynomialFeatures\n",
    "from sklearn.linear_model import LogisticRegression\n",
    "from sklearn.metrics import accuracy_score, precision_score, recall_score, f1_score\n",
    "from sklearn.ensemble import RandomForestRegressor"
   ]
  },
  {
   "cell_type": "markdown",
   "metadata": {},
   "source": [
    "Load the dataset and displaying head of the dataset."
   ]
  },
  {
   "cell_type": "code",
   "execution_count": 63,
   "metadata": {},
   "outputs": [
    {
     "name": "stdout",
     "output_type": "stream",
     "text": [
      "                       time  latitude  longitude   depth   mag magType   nst  \\\n",
      "0  2023-01-01T00:49:25.294Z   52.0999   178.5218  82.770  3.10      ml  14.0   \n",
      "1  2023-01-01T01:41:43.755Z    7.1397   126.7380  79.194  4.50      mb  32.0   \n",
      "2  2023-01-01T03:29:31.070Z   19.1631   -66.5251  24.000  3.93      md  23.0   \n",
      "3  2023-01-01T04:09:32.814Z   -4.7803   102.7675  63.787  4.30      mb  17.0   \n",
      "4  2023-01-01T04:29:13.793Z   53.3965  -166.9417  10.000  3.00      ml  19.0   \n",
      "\n",
      "     gap    dmin   rms  ...                   updated  \\\n",
      "0  139.0  0.8700  0.18  ...  2023-03-11T22:51:52.040Z   \n",
      "1  104.0  1.1520  0.47  ...  2023-03-11T22:51:45.040Z   \n",
      "2  246.0  0.8479  0.22  ...  2023-03-11T22:51:29.040Z   \n",
      "3  187.0  0.4570  0.51  ...  2023-03-11T22:51:45.040Z   \n",
      "4  190.0  0.4000  0.31  ...  2023-03-11T22:51:38.040Z   \n",
      "\n",
      "                                   place        type horizontalError  \\\n",
      "0  Rat Islands, Aleutian Islands, Alaska  earthquake            8.46   \n",
      "1        23 km ESE of Manay, Philippines  earthquake            5.51   \n",
      "2                     Puerto Rico region  earthquake            0.91   \n",
      "3     99 km SSW of Pagar Alam, Indonesia  earthquake           10.25   \n",
      "4          59 km SSW of Unalaska, Alaska  earthquake            1.41   \n",
      "\n",
      "  depthError  magError  magNst    status  locationSource magSource  \n",
      "0     21.213     0.097    14.0  reviewed              us        us  \n",
      "1      7.445     0.083    43.0  reviewed              us        us  \n",
      "2     15.950     0.090    16.0  reviewed              pr        pr  \n",
      "3      6.579     0.238     5.0  reviewed              us        us  \n",
      "4      1.999     0.085    18.0  reviewed              us        us  \n",
      "\n",
      "[5 rows x 22 columns]\n"
     ]
    }
   ],
   "source": [
    "import pandas as pd\n",
    "data = pd.read_csv('P:\\College\\SEM - 7\\ML\\Lab\\earthquakes_2023_global.csv')\n",
    "\n",
    "print(data.head())"
   ]
  },
  {
   "cell_type": "markdown",
   "metadata": {},
   "source": [
    "Checking for **Null values.**"
   ]
  },
  {
   "cell_type": "code",
   "execution_count": 64,
   "metadata": {},
   "outputs": [
    {
     "name": "stdout",
     "output_type": "stream",
     "text": [
      "time                  0\n",
      "latitude              0\n",
      "longitude             0\n",
      "depth                 0\n",
      "mag                   0\n",
      "magType               0\n",
      "nst                1415\n",
      "gap                1417\n",
      "dmin               1866\n",
      "rms                   0\n",
      "net                   0\n",
      "id                    0\n",
      "updated               0\n",
      "place              1608\n",
      "type                  0\n",
      "horizontalError    1549\n",
      "depthError            0\n",
      "magError           1672\n",
      "magNst             1577\n",
      "status                0\n",
      "locationSource        0\n",
      "magSource             0\n",
      "dtype: int64\n"
     ]
    }
   ],
   "source": [
    "print(data.isnull().sum())"
   ]
  },
  {
   "cell_type": "markdown",
   "metadata": {},
   "source": [
    "Removing **Null values**"
   ]
  },
  {
   "cell_type": "code",
   "execution_count": 65,
   "metadata": {},
   "outputs": [],
   "source": [
    "numerical_columns = ['nst', 'gap', 'dmin', 'horizontalError', 'magError', 'magNst']\n",
    "for column in numerical_columns:\n",
    "    if data[column].isnull().sum() > 0:\n",
    "        # Filling with mean\n",
    "        data[column].fillna(data[column].mean(), inplace=True)"
   ]
  },
  {
   "cell_type": "code",
   "execution_count": 66,
   "metadata": {},
   "outputs": [],
   "source": [
    "categorical_columns = ['magType', 'place', 'status', 'locationSource', 'magSource']\n",
    "for column in categorical_columns:\n",
    "    if data[column].isnull().sum() > 0:\n",
    "        # Filling with mode\n",
    "        data[column].fillna(data[column].mode()[0], inplace=True)"
   ]
  },
  {
   "cell_type": "markdown",
   "metadata": {},
   "source": [
    "After removing Null values checking again if there are any **Null values**"
   ]
  },
  {
   "cell_type": "code",
   "execution_count": 67,
   "metadata": {},
   "outputs": [
    {
     "name": "stdout",
     "output_type": "stream",
     "text": [
      "time               0\n",
      "latitude           0\n",
      "longitude          0\n",
      "depth              0\n",
      "mag                0\n",
      "magType            0\n",
      "nst                0\n",
      "gap                0\n",
      "dmin               0\n",
      "rms                0\n",
      "net                0\n",
      "id                 0\n",
      "updated            0\n",
      "place              0\n",
      "type               0\n",
      "horizontalError    0\n",
      "depthError         0\n",
      "magError           0\n",
      "magNst             0\n",
      "status             0\n",
      "locationSource     0\n",
      "magSource          0\n",
      "dtype: int64\n"
     ]
    }
   ],
   "source": [
    "print(data.isnull().sum())"
   ]
  },
  {
   "cell_type": "markdown",
   "metadata": {},
   "source": [
    "The 'data.describe()' function provides key statistics for numerical columns: count, mean, standard deviation, min, max, and percentiles (25%, 50%, 75%), summarizing the distribution and spread of values."
   ]
  },
  {
   "cell_type": "code",
   "execution_count": 68,
   "metadata": {},
   "outputs": [
    {
     "data": {
      "text/html": [
       "<div>\n",
       "<style scoped>\n",
       "    .dataframe tbody tr th:only-of-type {\n",
       "        vertical-align: middle;\n",
       "    }\n",
       "\n",
       "    .dataframe tbody tr th {\n",
       "        vertical-align: top;\n",
       "    }\n",
       "\n",
       "    .dataframe thead th {\n",
       "        text-align: right;\n",
       "    }\n",
       "</style>\n",
       "<table border=\"1\" class=\"dataframe\">\n",
       "  <thead>\n",
       "    <tr style=\"text-align: right;\">\n",
       "      <th></th>\n",
       "      <th>latitude</th>\n",
       "      <th>longitude</th>\n",
       "      <th>depth</th>\n",
       "      <th>mag</th>\n",
       "      <th>nst</th>\n",
       "      <th>gap</th>\n",
       "      <th>dmin</th>\n",
       "      <th>rms</th>\n",
       "      <th>horizontalError</th>\n",
       "      <th>depthError</th>\n",
       "      <th>magError</th>\n",
       "      <th>magNst</th>\n",
       "    </tr>\n",
       "  </thead>\n",
       "  <tbody>\n",
       "    <tr>\n",
       "      <th>count</th>\n",
       "      <td>26642.000000</td>\n",
       "      <td>26642.000000</td>\n",
       "      <td>26642.000000</td>\n",
       "      <td>26642.000000</td>\n",
       "      <td>26642.000000</td>\n",
       "      <td>26642.000000</td>\n",
       "      <td>26642.000000</td>\n",
       "      <td>26642.000000</td>\n",
       "      <td>26642.000000</td>\n",
       "      <td>26642.000000</td>\n",
       "      <td>26642.000000</td>\n",
       "      <td>26642.000000</td>\n",
       "    </tr>\n",
       "    <tr>\n",
       "      <th>mean</th>\n",
       "      <td>16.852798</td>\n",
       "      <td>-11.487497</td>\n",
       "      <td>67.491224</td>\n",
       "      <td>4.007395</td>\n",
       "      <td>42.571332</td>\n",
       "      <td>124.930971</td>\n",
       "      <td>2.692908</td>\n",
       "      <td>0.581575</td>\n",
       "      <td>7.017267</td>\n",
       "      <td>4.475056</td>\n",
       "      <td>0.122735</td>\n",
       "      <td>33.315939</td>\n",
       "    </tr>\n",
       "    <tr>\n",
       "      <th>std</th>\n",
       "      <td>30.389200</td>\n",
       "      <td>130.053399</td>\n",
       "      <td>116.762456</td>\n",
       "      <td>0.794423</td>\n",
       "      <td>36.648514</td>\n",
       "      <td>65.612383</td>\n",
       "      <td>3.899387</td>\n",
       "      <td>0.256276</td>\n",
       "      <td>3.952201</td>\n",
       "      <td>4.451649</td>\n",
       "      <td>0.099010</td>\n",
       "      <td>46.579551</td>\n",
       "    </tr>\n",
       "    <tr>\n",
       "      <th>min</th>\n",
       "      <td>-65.849700</td>\n",
       "      <td>-179.998700</td>\n",
       "      <td>-3.370000</td>\n",
       "      <td>2.600000</td>\n",
       "      <td>0.000000</td>\n",
       "      <td>8.000000</td>\n",
       "      <td>0.000000</td>\n",
       "      <td>0.010000</td>\n",
       "      <td>0.000000</td>\n",
       "      <td>0.000000</td>\n",
       "      <td>0.000000</td>\n",
       "      <td>0.000000</td>\n",
       "    </tr>\n",
       "    <tr>\n",
       "      <th>25%</th>\n",
       "      <td>-6.415275</td>\n",
       "      <td>-149.608650</td>\n",
       "      <td>10.000000</td>\n",
       "      <td>3.220000</td>\n",
       "      <td>19.000000</td>\n",
       "      <td>75.000000</td>\n",
       "      <td>0.666475</td>\n",
       "      <td>0.410000</td>\n",
       "      <td>4.350000</td>\n",
       "      <td>1.848000</td>\n",
       "      <td>0.082000</td>\n",
       "      <td>11.000000</td>\n",
       "    </tr>\n",
       "    <tr>\n",
       "      <th>50%</th>\n",
       "      <td>18.884167</td>\n",
       "      <td>-64.811833</td>\n",
       "      <td>21.998000</td>\n",
       "      <td>4.300000</td>\n",
       "      <td>32.000000</td>\n",
       "      <td>116.000000</td>\n",
       "      <td>1.760000</td>\n",
       "      <td>0.590000</td>\n",
       "      <td>7.017267</td>\n",
       "      <td>2.019000</td>\n",
       "      <td>0.115000</td>\n",
       "      <td>19.000000</td>\n",
       "    </tr>\n",
       "    <tr>\n",
       "      <th>75%</th>\n",
       "      <td>41.827950</td>\n",
       "      <td>126.965100</td>\n",
       "      <td>66.833000</td>\n",
       "      <td>4.500000</td>\n",
       "      <td>50.000000</td>\n",
       "      <td>160.000000</td>\n",
       "      <td>3.020750</td>\n",
       "      <td>0.750000</td>\n",
       "      <td>9.550000</td>\n",
       "      <td>6.669000</td>\n",
       "      <td>0.148000</td>\n",
       "      <td>34.000000</td>\n",
       "    </tr>\n",
       "    <tr>\n",
       "      <th>max</th>\n",
       "      <td>86.593900</td>\n",
       "      <td>179.999400</td>\n",
       "      <td>681.238000</td>\n",
       "      <td>7.800000</td>\n",
       "      <td>423.000000</td>\n",
       "      <td>350.000000</td>\n",
       "      <td>50.820000</td>\n",
       "      <td>1.880000</td>\n",
       "      <td>99.000000</td>\n",
       "      <td>60.670000</td>\n",
       "      <td>4.490000</td>\n",
       "      <td>884.000000</td>\n",
       "    </tr>\n",
       "  </tbody>\n",
       "</table>\n",
       "</div>"
      ],
      "text/plain": [
       "           latitude     longitude         depth           mag           nst  \\\n",
       "count  26642.000000  26642.000000  26642.000000  26642.000000  26642.000000   \n",
       "mean      16.852798    -11.487497     67.491224      4.007395     42.571332   \n",
       "std       30.389200    130.053399    116.762456      0.794423     36.648514   \n",
       "min      -65.849700   -179.998700     -3.370000      2.600000      0.000000   \n",
       "25%       -6.415275   -149.608650     10.000000      3.220000     19.000000   \n",
       "50%       18.884167    -64.811833     21.998000      4.300000     32.000000   \n",
       "75%       41.827950    126.965100     66.833000      4.500000     50.000000   \n",
       "max       86.593900    179.999400    681.238000      7.800000    423.000000   \n",
       "\n",
       "                gap          dmin           rms  horizontalError  \\\n",
       "count  26642.000000  26642.000000  26642.000000     26642.000000   \n",
       "mean     124.930971      2.692908      0.581575         7.017267   \n",
       "std       65.612383      3.899387      0.256276         3.952201   \n",
       "min        8.000000      0.000000      0.010000         0.000000   \n",
       "25%       75.000000      0.666475      0.410000         4.350000   \n",
       "50%      116.000000      1.760000      0.590000         7.017267   \n",
       "75%      160.000000      3.020750      0.750000         9.550000   \n",
       "max      350.000000     50.820000      1.880000        99.000000   \n",
       "\n",
       "         depthError      magError        magNst  \n",
       "count  26642.000000  26642.000000  26642.000000  \n",
       "mean       4.475056      0.122735     33.315939  \n",
       "std        4.451649      0.099010     46.579551  \n",
       "min        0.000000      0.000000      0.000000  \n",
       "25%        1.848000      0.082000     11.000000  \n",
       "50%        2.019000      0.115000     19.000000  \n",
       "75%        6.669000      0.148000     34.000000  \n",
       "max       60.670000      4.490000    884.000000  "
      ]
     },
     "execution_count": 68,
     "metadata": {},
     "output_type": "execute_result"
    }
   ],
   "source": [
    "data.describe()"
   ]
  },
  {
   "cell_type": "markdown",
   "metadata": {},
   "source": [
    "Checking type of the every column of the dataset."
   ]
  },
  {
   "cell_type": "code",
   "execution_count": 69,
   "metadata": {},
   "outputs": [
    {
     "name": "stdout",
     "output_type": "stream",
     "text": [
      "time                object\n",
      "latitude           float64\n",
      "longitude          float64\n",
      "depth              float64\n",
      "mag                float64\n",
      "magType             object\n",
      "nst                float64\n",
      "gap                float64\n",
      "dmin               float64\n",
      "rms                float64\n",
      "net                 object\n",
      "id                  object\n",
      "updated             object\n",
      "place               object\n",
      "type                object\n",
      "horizontalError    float64\n",
      "depthError         float64\n",
      "magError           float64\n",
      "magNst             float64\n",
      "status              object\n",
      "locationSource      object\n",
      "magSource           object\n",
      "dtype: object\n"
     ]
    }
   ],
   "source": [
    "# Check data types\n",
    "print(data.dtypes)"
   ]
  },
  {
   "cell_type": "markdown",
   "metadata": {},
   "source": [
    "Convert datetime column to datetime type and extract useful features from datetime"
   ]
  },
  {
   "cell_type": "code",
   "execution_count": 70,
   "metadata": {},
   "outputs": [],
   "source": [
    "data['time'] = pd.to_datetime(data['time'])\n",
    "\n",
    "data['year'] = data['time'].dt.year\n",
    "data['month'] = data['time'].dt.month\n",
    "data['day'] = data['time'].dt.day\n",
    "data['hour'] = data['time'].dt.hour\n",
    "data['minute'] = data['time'].dt.minute\n",
    "data['second'] = data['time'].dt.second"
   ]
  },
  {
   "cell_type": "markdown",
   "metadata": {},
   "source": [
    "Dropping the time column"
   ]
  },
  {
   "cell_type": "code",
   "execution_count": 71,
   "metadata": {},
   "outputs": [
    {
     "name": "stdout",
     "output_type": "stream",
     "text": [
      "latitude           float64\n",
      "longitude          float64\n",
      "depth              float64\n",
      "mag                float64\n",
      "magType             object\n",
      "nst                float64\n",
      "gap                float64\n",
      "dmin               float64\n",
      "rms                float64\n",
      "net                 object\n",
      "id                  object\n",
      "updated             object\n",
      "place               object\n",
      "type                object\n",
      "horizontalError    float64\n",
      "depthError         float64\n",
      "magError           float64\n",
      "magNst             float64\n",
      "status              object\n",
      "locationSource      object\n",
      "magSource           object\n",
      "year                 int32\n",
      "month                int32\n",
      "day                  int32\n",
      "hour                 int32\n",
      "minute               int32\n",
      "second               int32\n",
      "dtype: object\n"
     ]
    }
   ],
   "source": [
    "data = data.drop(columns=['time'])\n",
    "print(data.dtypes)"
   ]
  },
  {
   "cell_type": "markdown",
   "metadata": {},
   "source": [
    "Convert categorical columns to numeric using one-hot encoding.  \n",
    "\n",
    "Display the first few rows of the encoded dataset."
   ]
  },
  {
   "cell_type": "code",
   "execution_count": 72,
   "metadata": {},
   "outputs": [
    {
     "name": "stdout",
     "output_type": "stream",
     "text": [
      "   latitude  longitude   depth   mag   nst    gap    dmin   rms net  \\\n",
      "0   52.0999   178.5218  82.770  3.10  14.0  139.0  0.8700  0.18  us   \n",
      "1    7.1397   126.7380  79.194  4.50  32.0  104.0  1.1520  0.47  us   \n",
      "2   19.1631   -66.5251  24.000  3.93  23.0  246.0  0.8479  0.22  pr   \n",
      "3   -4.7803   102.7675  63.787  4.30  17.0  187.0  0.4570  0.51  us   \n",
      "4   53.3965  -166.9417  10.000  3.00  19.0  190.0  0.4000  0.31  us   \n",
      "\n",
      "             id  ... magSource_ok magSource_pgc  magSource_pr  magSource_se  \\\n",
      "0    us7000j5a1  ...        False         False         False         False   \n",
      "1    us7000j3xk  ...        False         False         False         False   \n",
      "2  pr2023001000  ...        False         False          True         False   \n",
      "3    us7000j3xm  ...        False         False         False         False   \n",
      "4    us7000j1zd  ...        False         False         False         False   \n",
      "\n",
      "   magSource_slm  magSource_tx  magSource_us  magSource_uu  magSource_uw  \\\n",
      "0          False         False          True         False         False   \n",
      "1          False         False          True         False         False   \n",
      "2          False         False         False         False         False   \n",
      "3          False         False          True         False         False   \n",
      "4          False         False          True         False         False   \n",
      "\n",
      "   magSource_zamg  \n",
      "0           False  \n",
      "1           False  \n",
      "2           False  \n",
      "3           False  \n",
      "4           False  \n",
      "\n",
      "[5 rows x 82 columns]\n"
     ]
    }
   ],
   "source": [
    "data_encoded = pd.get_dummies(data, columns=['magType', 'type', 'status', 'locationSource', 'magSource'])\n",
    "\n",
    "print(data_encoded.head())"
   ]
  },
  {
   "cell_type": "markdown",
   "metadata": {},
   "source": [
    "Selecting features and target variable.  \n",
    "Example: Using latitude, longitude, depth, and magnitude as features  "
   ]
  },
  {
   "cell_type": "code",
   "execution_count": 73,
   "metadata": {},
   "outputs": [
    {
     "name": "stdout",
     "output_type": "stream",
     "text": [
      "   latitude  longitude   depth   mag  year  month  day  hour  minute  second\n",
      "0   52.0999   178.5218  82.770  3.10  2023      1    1     0      49      25\n",
      "1    7.1397   126.7380  79.194  4.50  2023      1    1     1      41      43\n",
      "2   19.1631   -66.5251  24.000  3.93  2023      1    1     3      29      31\n",
      "3   -4.7803   102.7675  63.787  4.30  2023      1    1     4       9      32\n",
      "4   53.3965  -166.9417  10.000  3.00  2023      1    1     4      29      13\n",
      "0    3.10\n",
      "1    4.50\n",
      "2    3.93\n",
      "3    4.30\n",
      "4    3.00\n",
      "Name: mag, dtype: float64\n"
     ]
    }
   ],
   "source": [
    "X = data_encoded[['latitude', 'longitude', 'depth', 'mag', 'year', 'month', 'day', 'hour', 'minute', 'second']]\n",
    "\n",
    "# Target variable\n",
    "y = data_encoded['mag']  \n",
    "\n",
    "print(X.head())\n",
    "print(y.head())\n"
   ]
  },
  {
   "cell_type": "markdown",
   "metadata": {},
   "source": [
    "Feature scaling."
   ]
  },
  {
   "cell_type": "code",
   "execution_count": 74,
   "metadata": {},
   "outputs": [
    {
     "name": "stdout",
     "output_type": "stream",
     "text": [
      "   latitude  longitude     depth       mag  year     month       day  \\\n",
      "0  1.159878   1.461037  0.130856 -1.142229   0.0 -1.556165 -1.593573   \n",
      "1 -0.319629   1.062856  0.100229  0.620091   0.0 -1.556165 -1.593573   \n",
      "2  0.076025  -0.423200 -0.372483 -0.097425   0.0 -1.556165 -1.593573   \n",
      "3 -0.711881   0.878540 -0.031725  0.368331   0.0 -1.556165 -1.593573   \n",
      "4  1.202545  -1.195333 -0.492387 -1.268109   0.0 -1.556165 -1.593573   \n",
      "\n",
      "       hour    minute    second  \n",
      "0 -1.634463  1.126834 -0.257309  \n",
      "1 -1.491919  0.667094  0.782648  \n",
      "2 -1.206831 -0.022515  0.089343  \n",
      "3 -1.064287 -1.171864  0.147119  \n",
      "4 -1.064287 -0.022515 -0.950614  \n"
     ]
    }
   ],
   "source": [
    "\n",
    "# Initialize the scaler\n",
    "scaler = StandardScaler()\n",
    "\n",
    "# Fit and transform the features\n",
    "X_scaled = scaler.fit_transform(X)\n",
    "\n",
    "# Check the scaled features\n",
    "print(pd.DataFrame(X_scaled, columns=X.columns).head())\n"
   ]
  },
  {
   "cell_type": "markdown",
   "metadata": {},
   "source": [
    "Train-Test Split."
   ]
  },
  {
   "cell_type": "code",
   "execution_count": 75,
   "metadata": {},
   "outputs": [
    {
     "name": "stdout",
     "output_type": "stream",
     "text": [
      "Training set shape: (21313, 10)\n",
      "Test set shape: (5329, 10)\n"
     ]
    }
   ],
   "source": [
    "# Split the dataset into training and testing sets\n",
    "X_train, X_test, y_train, y_test = train_test_split(X_scaled, y, test_size=0.2, random_state=42)\n",
    "\n",
    "# Check the shapes of the resulting datasets\n",
    "print(f\"Training set shape: {X_train.shape}\")\n",
    "print(f\"Test set shape: {X_test.shape}\")"
   ]
  },
  {
   "cell_type": "markdown",
   "metadata": {},
   "source": [
    "### Linear Regression "
   ]
  },
  {
   "cell_type": "code",
   "execution_count": 76,
   "metadata": {},
   "outputs": [
    {
     "name": "stdout",
     "output_type": "stream",
     "text": [
      "Linear Regression Evaluation:\n",
      "Mean Squared Error: 0.0000\n",
      "Root Mean Squared Error: 0.0000\n",
      "Mean Absolute Error: 0.0000\n",
      "R^2 Score: 1.0000\n"
     ]
    }
   ],
   "source": [
    "lr_model = LinearRegression()\n",
    "lr_model.fit(X_train, y_train)\n",
    "\n",
    "# Predict\n",
    "y_pred_lr = lr_model.predict(X_test)\n",
    "\n",
    "mse_lr = mean_squared_error(y_test, y_pred_lr)\n",
    "rmse_lr = np.sqrt(mse_lr)\n",
    "mae_lr = mean_absolute_error(y_test, y_pred_lr)\n",
    "r2_lr = r2_score(y_test, y_pred_lr)\n",
    "\n",
    "print(\"Linear Regression Evaluation:\")\n",
    "print(f\"Mean Squared Error: {mse_lr:.4f}\")\n",
    "print(f\"Root Mean Squared Error: {rmse_lr:.4f}\")\n",
    "print(f\"Mean Absolute Error: {mae_lr:.4f}\")\n",
    "print(f\"R^2 Score: {r2_lr:.4f}\")\n"
   ]
  },
  {
   "cell_type": "markdown",
   "metadata": {},
   "source": [
    "Linear regression plots"
   ]
  },
  {
   "cell_type": "code",
   "execution_count": 77,
   "metadata": {},
   "outputs": [
    {
     "data": {
      "image/png": "[encoded data removed]",
      "text/plain": [
       "<Figure size 1400x600 with 2 Axes>"
      ]
     },
     "metadata": {},
     "output_type": "display_data"
    }
   ],
   "source": [
    "# Simple plots\n",
    "plt.figure(figsize=(14, 6))\n",
    "\n",
    "# Actual vs Predicted Plot\n",
    "plt.subplot(1, 2, 1)\n",
    "sns.scatterplot(x=y_test, y=y_pred_lr, color='darkgreen', edgecolor=None)\n",
    "plt.plot([y_test.min(), y_test.max()], [y_test.min(), y_test.max()], \n",
    "'r--', lw=1)\n",
    "plt.xlabel('Actual Values')\n",
    "plt.ylabel('Predicted Values')\n",
    "plt.title('Actual vs Predicted')\n",
    "\n",
    "# Residuals Plot\n",
    "plt.subplot(1, 2, 2)\n",
    "residuals = y_test - y_pred_lr\n",
    "sns.histplot(residuals, kde=True, color=\"purple\")\n",
    "plt.title('Residuals Distribution')\n",
    "plt.xlabel('Residual')\n",
    "plt.ylabel('Frequency')\n",
    "\n",
    "plt.tight_layout()\n",
    "plt.show()"
   ]
  },
  {
   "cell_type": "markdown",
   "metadata": {},
   "source": [
    "### Polynomial Regression."
   ]
  },
  {
   "cell_type": "code",
   "execution_count": 78,
   "metadata": {},
   "outputs": [
    {
     "name": "stdout",
     "output_type": "stream",
     "text": [
      "Polynomial Regression Evaluation:\n",
      "Mean Squared Error: 0.0000\n",
      "Root Mean Squared Error: 0.0000\n",
      "Mean Absolute Error: 0.0000\n",
      "R^2 Score: 1.0000\n",
      "\n"
     ]
    }
   ],
   "source": [
    "# Polynomial Regression\n",
    "poly = PolynomialFeatures(degree=3)  # Change the degree if needed\n",
    "poly_features_train = poly.fit_transform(X_train)\n",
    "poly_model = LinearRegression()\n",
    "poly_model.fit(poly_features_train, y_train)\n",
    "\n",
    "# Predict\n",
    "poly_features_test = poly.transform(X_test)\n",
    "y_pred_poly = poly_model.predict(poly_features_test)\n",
    "\n",
    "# Evaluate\n",
    "mse_poly = mean_squared_error(y_test, y_pred_poly)\n",
    "rmse_poly = np.sqrt(mse_poly)\n",
    "mae_poly = mean_absolute_error(y_test, y_pred_poly)\n",
    "r2_poly = r2_score(y_test, y_pred_poly)\n",
    "\n",
    "print(\"Polynomial Regression Evaluation:\")\n",
    "print(f\"Mean Squared Error: {mse_poly:.4f}\")\n",
    "print(f\"Root Mean Squared Error: {rmse_poly:.4f}\")\n",
    "print(f\"Mean Absolute Error: {mae_poly:.4f}\")\n",
    "print(f\"R^2 Score: {r2_poly:.4f}\")\n",
    "print()"
   ]
  },
  {
   "cell_type": "markdown",
   "metadata": {},
   "source": [
    "Polynomial Regression plot"
   ]
  },
  {
   "cell_type": "code",
   "execution_count": 79,
   "metadata": {},
   "outputs": [
    {
     "data": {
      "image/png": "[encoded data removed]",
      "text/plain": [
       "<Figure size 1400x600 with 2 Axes>"
      ]
     },
     "metadata": {},
     "output_type": "display_data"
    }
   ],
   "source": [
    "# Simple plots\n",
    "plt.figure(figsize=(14, 6))\n",
    "\n",
    "# Actual vs Predicted Plot\n",
    "plt.subplot(1, 2, 1)\n",
    "plt.scatter(y_test, y_pred_poly, alpha=0.3)\n",
    "plt.xlabel('Actual Values')\n",
    "plt.ylabel('Predicted Values')\n",
    "plt.title('Polynomial Regression: Actual vs Predicted')\n",
    "\n",
    "# Residuals Plot\n",
    "plt.subplot(1, 2, 2)\n",
    "residuals_poly = y_test - y_pred_poly\n",
    "sns.histplot(residuals_poly, kde=True, color=\"skyblue\")\n",
    "plt.title('Polynomial Regression Residuals Distribution')\n",
    "plt.xlabel('Residual')\n",
    "plt.ylabel('Frequency')\n",
    "\n",
    "plt.tight_layout()\n",
    "plt.show()"
   ]
  },
  {
   "cell_type": "markdown",
   "metadata": {},
   "source": [
    "### Logistic Regression"
   ]
  },
  {
   "cell_type": "code",
   "execution_count": 80,
   "metadata": {},
   "outputs": [
    {
     "name": "stdout",
     "output_type": "stream",
     "text": [
      "Logistic Regression Accuracy: 0.9997497810584262\n",
      "Logistic Regression Precision: 1.0\n",
      "Logistic Regression Recall: 0.9994290608050242\n",
      "Logistic Regression F1 Score: 0.9997144488863506\n"
     ]
    }
   ],
   "source": [
    "y_binary = (y > y.median()).astype(int)\n",
    "\n",
    "X_train, X_test, y_train, y_test = train_test_split(X_scaled, y_binary, test_size=0.3, random_state=42)\n",
    "\n",
    "# Initialize and train the Logistic Regression model\n",
    "log_reg = LogisticRegression()\n",
    "log_reg.fit(X_train, y_train)\n",
    "\n",
    "# Predict\n",
    "y_pred_log = log_reg.predict(X_test)\n",
    "\n",
    "# Evaluate\n",
    "accuracy = accuracy_score(y_test, y_pred_log)\n",
    "precision = precision_score(y_test, y_pred_log)\n",
    "recall = recall_score(y_test, y_pred_log)\n",
    "f1 = f1_score(y_test, y_pred_log)\n",
    "\n",
    "print(f\"Logistic Regression Accuracy: {accuracy}\")\n",
    "print(f\"Logistic Regression Precision: {precision}\")\n",
    "print(f\"Logistic Regression Recall: {recall}\")\n",
    "print(f\"Logistic Regression F1 Score: {f1}\")"
   ]
  },
  {
   "cell_type": "markdown",
   "metadata": {},
   "source": [
    "### Random Forest Regressor model"
   ]
  },
  {
   "cell_type": "code",
   "execution_count": 81,
   "metadata": {},
   "outputs": [
    {
     "name": "stdout",
     "output_type": "stream",
     "text": [
      "Random Forest Regressor Evaluation:\n",
      "Mean Squared Error: 0.0000\n",
      "Root Mean Squared Error: 0.0002\n",
      "Mean Absolute Error: 0.0000\n",
      "R^2 Score: 1.0000\n",
      "\n"
     ]
    }
   ],
   "source": [
    "# Random Forest Regressor\n",
    "rf_model = RandomForestRegressor(n_estimators=600, random_state=42)\n",
    "rf_model.fit(X_train, y_train)\n",
    "\n",
    "# Predict\n",
    "y_pred_rf = rf_model.predict(X_test)\n",
    "\n",
    "# Evaluate\n",
    "mse_rf = mean_squared_error(y_test, y_pred_rf)\n",
    "rmse_rf = np.sqrt(mse_rf)\n",
    "mae_rf = mean_absolute_error(y_test, y_pred_rf)\n",
    "r2_rf = r2_score(y_test, y_pred_rf)\n",
    "\n",
    "print(\"Random Forest Regressor Evaluation:\")\n",
    "print(f\"Mean Squared Error: {mse_rf:.4f}\")\n",
    "print(f\"Root Mean Squared Error: {rmse_rf:.4f}\")\n",
    "print(f\"Mean Absolute Error: {mae_rf:.4f}\")\n",
    "print(f\"R^2 Score: {r2_rf:.4f}\")\n",
    "print()"
   ]
  },
  {
   "cell_type": "markdown",
   "metadata": {},
   "source": [
    "Summary of evaluation"
   ]
  },
  {
   "cell_type": "code",
   "execution_count": 84,
   "metadata": {},
   "outputs": [
    {
     "data": {
      "text/html": [
       "<div>\n",
       "<style scoped>\n",
       "    .dataframe tbody tr th:only-of-type {\n",
       "        vertical-align: middle;\n",
       "    }\n",
       "\n",
       "    .dataframe tbody tr th {\n",
       "        vertical-align: top;\n",
       "    }\n",
       "\n",
       "    .dataframe thead th {\n",
       "        text-align: right;\n",
       "    }\n",
       "</style>\n",
       "<table border=\"1\" class=\"dataframe\">\n",
       "  <thead>\n",
       "    <tr style=\"text-align: right;\">\n",
       "      <th></th>\n",
       "      <th>Model</th>\n",
       "      <th>Mean Squared Error</th>\n",
       "      <th>Root Mean Squared Error</th>\n",
       "      <th>Mean Absolute Error</th>\n",
       "      <th>R^2 Score</th>\n",
       "    </tr>\n",
       "  </thead>\n",
       "  <tbody>\n",
       "    <tr>\n",
       "      <th>0</th>\n",
       "      <td>Linear Regression</td>\n",
       "      <td>1.717982e-30</td>\n",
       "      <td>1.310718e-15</td>\n",
       "      <td>1.017680e-15</td>\n",
       "      <td>1.0</td>\n",
       "    </tr>\n",
       "    <tr>\n",
       "      <th>1</th>\n",
       "      <td>Polynomial Regression</td>\n",
       "      <td>1.676282e-28</td>\n",
       "      <td>1.294713e-14</td>\n",
       "      <td>5.751659e-15</td>\n",
       "      <td>1.0</td>\n",
       "    </tr>\n",
       "    <tr>\n",
       "      <th>2</th>\n",
       "      <td>Random Forest Regressor</td>\n",
       "      <td>4.448337e-08</td>\n",
       "      <td>2.109108e-04</td>\n",
       "      <td>3.336253e-06</td>\n",
       "      <td>1.0</td>\n",
       "    </tr>\n",
       "  </tbody>\n",
       "</table>\n",
       "</div>"
      ],
      "text/plain": [
       "                     Model  Mean Squared Error  Root Mean Squared Error  \\\n",
       "0        Linear Regression        1.717982e-30             1.310718e-15   \n",
       "1    Polynomial Regression        1.676282e-28             1.294713e-14   \n",
       "2  Random Forest Regressor        4.448337e-08             2.109108e-04   \n",
       "\n",
       "   Mean Absolute Error  R^2 Score  \n",
       "0         1.017680e-15        1.0  \n",
       "1         5.751659e-15        1.0  \n",
       "2         3.336253e-06        1.0  "
      ]
     },
     "execution_count": 84,
     "metadata": {},
     "output_type": "execute_result"
    }
   ],
   "source": [
    "# Create a DataFrame to display the evaluation metrics\n",
    "evaluation_results = pd.DataFrame({\n",
    "    'Model': ['Linear Regression', 'Polynomial Regression', 'Random Forest Regressor'],\n",
    "    'Mean Squared Error': [mse_lr, mse_poly, mse_rf],\n",
    "    'Root Mean Squared Error': [rmse_lr, rmse_poly, rmse_rf],\n",
    "    'Mean Absolute Error': [mae_lr, mae_poly, mae_rf],\n",
    "    'R^2 Score': [r2_lr, r2_poly, r2_rf]\n",
    "})\n",
    "\n",
    "# Print the evaluation table\n",
    "evaluation_results"
   ]
  },
  {
   "cell_type": "code",
   "execution_count": null,
   "metadata": {},
   "outputs": [],
   "source": []
  }
 ],
 "metadata": {
  "kernelspec": {
   "display_name": "Python 3",
   "language": "python",
   "name": "python3"
  },
  "language_info": {
   "codemirror_mode": {
    "name": "ipython",
    "version": 3
   },
   "file_extension": ".py",
   "mimetype": "text/x-python",
   "name": "python",
   "nbconvert_exporter": "python",
   "pygments_lexer": "ipython3",
   "version": "3.11.5"
  }
 },
 "nbformat": 4,
 "nbformat_minor": 2
}
